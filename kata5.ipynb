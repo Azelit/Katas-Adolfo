{
 "cells": [
  {
   "cell_type": "markdown",
   "metadata": {},
   "source": [
    "Problema 1"
   ]
  },
  {
   "cell_type": "code",
   "execution_count": 5,
   "metadata": {},
   "outputs": [],
   "source": [
    "primerP = 149597870\n",
    "segundoP = 778547200"
   ]
  },
  {
   "cell_type": "code",
   "execution_count": 6,
   "metadata": {},
   "outputs": [
    {
     "name": "stdout",
     "output_type": "stream",
     "text": [
      "628949330\n",
      "390577533.93\n"
     ]
    }
   ],
   "source": [
    "distanciaKm=abs(segundoP- primerP)\n",
    "print(distanciaKm)\n",
    "\n",
    "distanciaMillas = distanciaKm* 0.621\n",
    "print(distanciaMillas)"
   ]
  },
  {
   "cell_type": "markdown",
   "metadata": {},
   "source": [
    "Problema 2"
   ]
  },
  {
   "cell_type": "code",
   "execution_count": 7,
   "metadata": {},
   "outputs": [],
   "source": [
    "primerPlaneta = float(input(\"Distancia del sol al primer planeta Km: \"))\n",
    "segundoPlaneta = float(input(\"Distancia del sol al segundo planeta Km: \"))"
   ]
  },
  {
   "cell_type": "code",
   "execution_count": 8,
   "metadata": {},
   "outputs": [
    {
     "name": "stdout",
     "output_type": "stream",
     "text": [
      "628949330\n",
      "390577466.241\n"
     ]
    }
   ],
   "source": [
    "distanciaKm1=abs(segundoPlaneta- primerPlaneta)\n",
    "print(distanciaKm)\n",
    "\n",
    "distanciaMillas1 = distanciaKm1* 0.621\n",
    "print(distanciaMillas1)"
   ]
  }
 ],
 "metadata": {
  "interpreter": {
   "hash": "74f1acef96e7b5c868581c19d89e43cc6fecaf13045d6197508bf6081a406061"
  },
  "kernelspec": {
   "display_name": "Python 3.10.2 64-bit",
   "language": "python",
   "name": "python3"
  },
  "language_info": {
   "codemirror_mode": {
    "name": "ipython",
    "version": 3
   },
   "file_extension": ".py",
   "mimetype": "text/x-python",
   "name": "python",
   "nbconvert_exporter": "python",
   "pygments_lexer": "ipython3",
   "version": "3.10.2"
  },
  "orig_nbformat": 4
 },
 "nbformat": 4,
 "nbformat_minor": 2
}
