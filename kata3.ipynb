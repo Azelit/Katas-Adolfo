{
 "cells": [
  {
   "cell_type": "markdown",
   "metadata": {},
   "source": [
    "Problema 1"
   ]
  },
  {
   "cell_type": "code",
   "execution_count": 1,
   "metadata": {},
   "outputs": [
    {
     "name": "stdout",
     "output_type": "stream",
     "text": [
      "El asteroide se acerca demasiado rapido.\n"
     ]
    }
   ],
   "source": [
    "velocidadA = 35\n",
    "if velocidadA>25:\n",
    "    print(\"El asteroide se acerca demasiado rapido.\")\n",
    "else:\n",
    "    print(\"La velocidad no es preocupante.\")\n"
   ]
  },
  {
   "cell_type": "markdown",
   "metadata": {},
   "source": [
    "Problema 2"
   ]
  },
  {
   "cell_type": "code",
   "execution_count": 3,
   "metadata": {},
   "outputs": [
    {
     "name": "stdout",
     "output_type": "stream",
     "text": [
      "Con la velocidad de: 32 Km/s el asteroide \n",
      "puede verse desde la tierra. \n"
     ]
    }
   ],
   "source": [
    "velocidadA = 32\n",
    "print(\"Con la velocidad de: \"+str(velocidadA)+\" Km/s el asteroide \")\n",
    "if velocidadA>20:\n",
    "    print(\"puede verse desde la tierra. \")\n",
    "else:\n",
    "    print(\"no sera visible.\")"
   ]
  },
  {
   "cell_type": "markdown",
   "metadata": {},
   "source": [
    "Problema 3"
   ]
  },
  {
   "cell_type": "code",
   "execution_count": 14,
   "metadata": {},
   "outputs": [
    {
     "name": "stdout",
     "output_type": "stream",
     "text": [
      "Con la velocidad de: 26Km/s el asteroide puede verse y es demasiado rapido, pero no causara graves daños.\n"
     ]
    }
   ],
   "source": [
    "velocidadA = 26\n",
    "dimension = 10\n",
    "\n",
    "if velocidadA>25:\n",
    "    if dimension>25:\n",
    "        print(\"Con la velocidad de: \"+str(velocidadA)+\"Km/s el asteroide puede verse y es demasiado rapido, además causara graves daños.\")\n",
    "    else:\n",
    "        print(\"Con la velocidad de: \"+str(velocidadA)+\"Km/s el asteroide puede verse y es demasiado rapido, pero no causara graves daños.\")\n",
    "elif velocidadA>20 and dimension>25:\n",
    "    print(\"Con la velocidad de: \"+str(velocidadA)+\"Km/s el asteroide puede verse y causara graves daños.\")\n",
    "elif velocidadA>20 and dimension<= 26:\n",
    "    print(\"Con la velocidad de: \"+str(velocidadA)+\"Km/s el asteroide puede verse, pero no causara daños.\")\n",
    "       \n",
    "else:\n",
    "    if dimension>25:\n",
    "        print(\"Con la velocidad de: \"+str(velocidadA)+\"Km/s el asteroide no sera visible pero causara daños.\")\n",
    "    else:        \n",
    "        print(\"Con la velocidad de: \"+str(velocidadA)+\"Km/s el asteroideno no sera visible y no causara daños.\")"
   ]
  }
 ],
 "metadata": {
  "interpreter": {
   "hash": "74f1acef96e7b5c868581c19d89e43cc6fecaf13045d6197508bf6081a406061"
  },
  "kernelspec": {
   "display_name": "Python 3.10.2 64-bit",
   "language": "python",
   "name": "python3"
  },
  "language_info": {
   "codemirror_mode": {
    "name": "ipython",
    "version": 3
   },
   "file_extension": ".py",
   "mimetype": "text/x-python",
   "name": "python",
   "nbconvert_exporter": "python",
   "pygments_lexer": "ipython3",
   "version": "3.10.2"
  },
  "orig_nbformat": 4
 },
 "nbformat": 4,
 "nbformat_minor": 2
}
